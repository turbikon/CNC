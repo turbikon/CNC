{
 "cells": [
  {
   "cell_type": "markdown",
   "metadata": {},
   "source": [
    "\n",
    "<h2> CNC Milling </h2>"
   ]
  },
  {
   "cell_type": "markdown",
   "metadata": {},
   "source": [
    "\n",
    "<h3> General Codes </h3>"
   ]
  },
  {
   "cell_type": "markdown",
   "metadata": {},
   "source": [
    "<br>\n",
    "<div>\n",
    "<p>\n",
    "<b>Machinery</b> : Fanuc | Milling <br>\n",
    "<b>Used simulator</b> : Denford Fanuc <br>\n",
    "<b>Units</b> : Millimeters (mm) <br>\n",
    "<b>Note</b> : I apologize in advance for the possible English mistakes that could be found along my documents. \n",
    "</p>\n",
    "</div>\n",
    "<br>"
   ]
  },
  {
   "cell_type": "markdown",
   "metadata": {},
   "source": [
    "<div>\n",
    "<p>\n",
    "This is a collection of G and M codes used in CNC programming. <br>\n",
    "It isn't attempt to list all the available codes, but the most uselfull for basic operations. <br>\n",
    "More codes will be added and documented progressively.\n",
    "</p>\n",
    "</div>"
   ]
  },
  {
   "cell_type": "markdown",
   "metadata": {},
   "source": [
    "<br>\n",
    "<div>\n",
    "<p style=\"text-align: center\">\n",
    "<i><b>The design drawing will be uploaded later</b></i>\n",
    "</p>\n",
    "</div>\n",
    "<br>"
   ]
  },
  {
   "cell_type": "markdown",
   "metadata": {},
   "source": [
    "\n",
    "<h3>Program</h3>\n",
    "What category these codes belong to..."
   ]
  },
  {
   "cell_type": "markdown",
   "metadata": {},
   "source": [
    "\n",
    "| **G17** | Plane XY | Milling <br>\n",
    "| **G18** | Plane ZX | Lathe <br>\n",
    "\n",
    "| **G20** | Dimensions and Units | Inches <br>\n",
    "| **G21** | Dimensions and Units | Millimeters <br>\n",
    "\n",
    "| **G40** | Cancellation of compensation <br>\n",
    "| **G80** | Cancellation of Canned cycles <br>\n",
    "\n",
    "| **G90** | Absolute positioning <br>\n",
    "| **G91** | Incremental positioning <br>\n",
    "\n",
    "| **G94** | *Avance* per minute <br>\n",
    "| **G95** | *Avance* per revolucion <br>\n",
    "\n",
    "| **G28** | Home\n",
    "| **G54** | Origin of piece <br>\n"
   ]
  },
  {
   "cell_type": "markdown",
   "metadata": {},
   "source": [
    "\n",
    "<h3>Program</h3>\n",
    "What category these codes belong to..."
   ]
  },
  {
   "cell_type": "markdown",
   "metadata": {},
   "source": [
    "|   code   | description |\n",
    "|:-------:|:------------:|\n",
    "| **G00** | Fast movement - Outside of the billet |\n",
    "| **G01** | Controled movement - Removing material |\n",
    "| **G02** | Circular movement right |\n",
    "| **G03** | Circular movement left |"
   ]
  },
  {
   "cell_type": "markdown",
   "metadata": {},
   "source": [
    "\n",
    "<h3>Program</h3>\n",
    "What category these codes belong to...\n"
   ]
  },
  {
   "cell_type": "markdown",
   "metadata": {},
   "source": [
    "M06 T01 | Set tool T01 <br>\n",
    "M03 | Turn on *husillo* | Clock direction <br>\n",
    "M04 | Turn on *husillo* | Counterclock direction <br>\n",
    "M05 | Turn off *husillo* <br>\n",
    "M08 | Turn on cold system <br>\n",
    "M09 | Turn off cold system <br>\n",
    "M00 | Stop program <br>\n",
    "M01 | Optional stop | Activable at machine panel <br>\n",
    "M30 | Stop and reset program <br>"
   ]
  },
  {
   "cell_type": "markdown",
   "metadata": {},
   "source": [
    "S | Revolutions per minute <br>\n",
    "F | *Avance* <br>\n",
    "T | Tool <br>"
   ]
  }
 ],
 "metadata": {
  "kernelspec": {
   "display_name": "Python 3.10.6 ('cncJup')",
   "language": "python",
   "name": "python3"
  },
  "language_info": {
   "name": "python",
   "version": "3.10.6"
  },
  "orig_nbformat": 4,
  "vscode": {
   "interpreter": {
    "hash": "4d4dc0298cc328660e0680bc504fe7e636f6dff8d1c7e6be139f3213cc956be8"
   }
  }
 },
 "nbformat": 4,
 "nbformat_minor": 2
}
