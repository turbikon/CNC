{
 "cells": [
  {
   "cell_type": "markdown",
   "metadata": {},
   "source": [
    "\n",
    "<h2> CNC Milling </h2>"
   ]
  },
  {
   "cell_type": "markdown",
   "metadata": {},
   "source": [
    "\n",
    "<h3> Practice | Drilling </h3>"
   ]
  },
  {
   "cell_type": "markdown",
   "metadata": {},
   "source": [
    "<br>\n",
    "<div>\n",
    "<p>\n",
    "<b>Machinery</b> : Fanuc | Milling <br>\n",
    "<b>Used simulator</b> : Denford Fanuc <br>\n",
    "<b>Units</b> : Millimeters (mm) <br>\n",
    "<b>Note</b> : I apologize in advance for the possible English mistakes that could be found along my documents. \n",
    "</p>\n",
    "</div>\n",
    "<br>"
   ]
  },
  {
   "cell_type": "markdown",
   "metadata": {},
   "source": [
    "<div>\n",
    "<p>\n",
    "The current practice will help us to understand how drilling a billet. Its objective is to explore each possible/available drill's machining operations (G-codes) and the considerations around them.\n",
    "</p>\n",
    "</div>"
   ]
  },
  {
   "cell_type": "markdown",
   "metadata": {},
   "source": [
    "<br>\n",
    "<div>\n",
    "<p style=\"text-align: center\">\n",
    "<i><b>The design drawing will be uploaded later</b></i>\n",
    "</p>\n",
    "</div>\n",
    "<br>"
   ]
  },
  {
   "cell_type": "markdown",
   "metadata": {},
   "source": [
    "<h3>Program</h3>"
   ]
  },
  {
   "cell_type": "markdown",
   "metadata": {},
   "source": [
    "<div>\n",
    "<p>\n",
    "Billet and Tool's dimensions\n",
    "</p>\n",
    "</div>"
   ]
  },
  {
   "cell_type": "markdown",
   "metadata": {},
   "source": [
    "~~~\n",
    "[BILLET X80.0 Y60.0 Z20.0       ( Dimensions' Billet\n",
    "[TOOLDEF T01 D5.0               ( Centredrill Bit\n",
    "[TOOLDEF T02 D15.0              ( Drill Bit\n",
    "~~~\n",
    "<br>"
   ]
  },
  {
   "cell_type": "markdown",
   "metadata": {},
   "source": [
    "<div>\n",
    "<p>\n",
    "Head\n",
    "</p>\n",
    "</div>"
   ]
  },
  {
   "cell_type": "markdown",
   "metadata": {},
   "source": [
    "```\n",
    "N1 G21 G90 G54 G17\n",
    "N2 G80 G40 G94 G28\n",
    "```\n",
    "<br>"
   ]
  },
  {
   "cell_type": "markdown",
   "metadata": {},
   "source": [
    "<div>\n",
    "<p>\n",
    "Body | Invariant Section\n",
    "</p>\n",
    "</div>"
   ]
  },
  {
   "cell_type": "markdown",
   "metadata": {},
   "source": [
    "```\n",
    "( Setting T01 - Centredrill Bit...\n",
    "N100 M06 T01\n",
    "N110 M03 S2000\n",
    "\n",
    "( First hole...\n",
    "N120 G00 X20.0 Y40.0\n",
    "N130 G00 Z1.0\n",
    "N140 G01 Z-5.0 F100\n",
    "N150 G01 Z1.0\n",
    "\n",
    "( Second hole...\n",
    "N160 G00 X40.0 Y30.0\n",
    "N170 G01 Z-5.0\n",
    "N180 G01 Z1.\n",
    "\n",
    "( Third hole...\n",
    "N190 G00 X60.0 Y20.0\n",
    "N200 G01 Z-5.0\n",
    "N210 G01 Z1.0\n",
    "\n",
    "( Moving to Home\n",
    "N220 G00 Z5.0 M05\n",
    "N230 G28 Z0\n",
    "\n",
    "( Setting T02 - Drill Bit...\n",
    "N240 M06 T02\n",
    "N250 M03 S2000\n",
    "```\n",
    "<br>"
   ]
  },
  {
   "cell_type": "markdown",
   "metadata": {},
   "source": [
    "<div>\n",
    "<p>\n",
    "Body | Variable Section | First Method <br>\n",
    "&nbsp;&nbsp;&nbsp;&nbsp;&nbsp;&nbsp;&nbsp;&nbsp;\n",
    "Drills can be done using different approaches. The next is the first method, which imply to do them one by one, without peacking.\n",
    "</p>\n",
    "</div>"
   ]
  },
  {
   "cell_type": "markdown",
   "metadata": {},
   "source": [
    "```\n",
    "( First drill...\n",
    "N260 G00 X20.0 Y40.0\n",
    "N270 G00 Z1.0\n",
    "N280 G01 Z-20.0 F100\n",
    "N290 G01 Z1.0\n",
    "\n",
    "( Second drill...\n",
    "N300 G00 X40.0 Y30.0\n",
    "N310 G01 Z-20.0\n",
    "N320 G01 Z1.0\n",
    "\n",
    "( Third drill...\n",
    "N330 G00 X60.0 Y20.0\n",
    "N340 G01 Z-20.0\n",
    "N350 G01 Z1.0\n",
    "```\n",
    "<br>"
   ]
  },
  {
   "cell_type": "markdown",
   "metadata": {},
   "source": [
    "<div>\n",
    "<p>\n",
    "Close <br>\n",
    "</p>\n",
    "</div>"
   ]
  },
  {
   "cell_type": "markdown",
   "metadata": {},
   "source": [
    "```\n",
    "N360 M05\n",
    "N370 G28 X0 Z0\n",
    "N380 M30\n",
    "```"
   ]
  }
 ],
 "metadata": {
  "kernelspec": {
   "display_name": "Python 3.10.6 ('cncJup')",
   "language": "python",
   "name": "python3"
  },
  "language_info": {
   "name": "python",
   "version": "3.10.6"
  },
  "orig_nbformat": 4,
  "vscode": {
   "interpreter": {
    "hash": "4d4dc0298cc328660e0680bc504fe7e636f6dff8d1c7e6be139f3213cc956be8"
   }
  }
 },
 "nbformat": 4,
 "nbformat_minor": 2
}
