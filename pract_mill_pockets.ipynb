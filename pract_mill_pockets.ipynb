{
 "cells": [
  {
   "cell_type": "markdown",
   "metadata": {},
   "source": [
    "\n",
    "<h2> CNC Milling </h2>"
   ]
  },
  {
   "cell_type": "markdown",
   "metadata": {},
   "source": [
    "\n",
    "<h3> Practice | Pockets </h3>"
   ]
  },
  {
   "cell_type": "markdown",
   "metadata": {},
   "source": [
    "<br>\n",
    "<div>\n",
    "<p>\n",
    "<b>Machinery</b> : Fanuc | Milling <br>\n",
    "<b>Used simulator</b> : Denford Fanuc <br>\n",
    "<b>Units</b> : Millimeters (mm) <br>\n",
    "<b>Note</b> : I apologize in advance for the possible English mistakes that could be found along my documents. \n",
    "</p>\n",
    "</div>\n",
    "<br>"
   ]
  },
  {
   "cell_type": "markdown",
   "metadata": {},
   "source": [
    "<div>\n",
    "<p>\n",
    "The current practice will help us to understand how create rectangular and circular pockets on a billet of material.\n",
    "</p>\n",
    "</div>"
   ]
  },
  {
   "cell_type": "markdown",
   "metadata": {},
   "source": [
    "<br>\n",
    "<div>\n",
    "<p style=\"text-align: center\">\n",
    "<i><b>The design drawing will be uploaded later</b></i>\n",
    "</p>\n",
    "</div>\n",
    "<br>"
   ]
  },
  {
   "cell_type": "markdown",
   "metadata": {},
   "source": [
    "<h3>Program</h3>"
   ]
  },
  {
   "cell_type": "markdown",
   "metadata": {},
   "source": [
    "<div>\n",
    "<p>\n",
    "Billet and Tool's dimensions.\n",
    "</p>\n",
    "</div>"
   ]
  },
  {
   "cell_type": "markdown",
   "metadata": {},
   "source": [
    "~~~\n",
    "[BILLET X3.0 Y4.0 Z1.25\n",
    "[TOOLDEF T01 D0.25\n",
    "~~~\n",
    "<br>"
   ]
  },
  {
   "cell_type": "markdown",
   "metadata": {},
   "source": [
    "<div>\n",
    "<p>\n",
    "Head\n",
    "</p>\n",
    "</div>"
   ]
  },
  {
   "cell_type": "markdown",
   "metadata": {},
   "source": [
    "```\n",
    "N100 G20 G90 G54 G17\n",
    "N110 G80 G40 G94 G28\n",
    "```\n",
    "<br>"
   ]
  },
  {
   "cell_type": "markdown",
   "metadata": {},
   "source": [
    "<div>\n",
    "<p>\n",
    "Body\n",
    "</p>\n",
    "</div>"
   ]
  },
  {
   "cell_type": "markdown",
   "metadata": {},
   "source": [
    "\n",
    "Selecting tool and turning on machine. <br>\n",
    "\n",
    "> Even when Rectangular and Circular Pockets have positioning coordenates embedded, it is recommended moving to a secure position before start the machining routine."
   ]
  },
  {
   "cell_type": "markdown",
   "metadata": {},
   "source": [
    "~~~\n",
    "N200 M06 T01\n",
    "N210 M03 S2000\n",
    "N220 G00 X0 Y4.0\n",
    "N230 G00 Z0.1\n",
    "~~~"
   ]
  },
  {
   "cell_type": "markdown",
   "metadata": {},
   "source": [
    "There are several Retangular Pocket's routines along this code, whose related G-Codes are G172 and G173. Here are listed all the prefixed used by these G-Codes...\n",
    "<br><br>\n",
    "G172\n",
    "> I: pocket's size along X axis <br>\n",
    "> J: pocket's size along Y axis <br>\n",
    "> K: not applicable, but the prefix is necessary to run the routine <br>\n",
    "> P: not applicable, but the prefix is necessary to run the routine <br>\n",
    "> Q: steps size or increment along Z axis <br>\n",
    "> R: starting absolute coordenate along Z axis <br>\n",
    "> X: absolute coordenate along X axis for the left-down corner of the pocket <br>\n",
    "> Y: absolute coordenate along Y axis for the left-down corner of the pocket <br>\n",
    "> Z: ending absolute coordenate along Z axis <br>\n",
    "> <br>\n",
    "\n",
    "G173\n",
    "> I: not applicable, but the prefix is necessary to run the routine <br>\n",
    "> K: not applicable, but the prefix is necessary to run the routine <br>\n",
    "> P: cut's rate expressed as a tool diameter percentage <br>\n",
    "> T: selected tool <br>\n",
    "> S: RPM for the rough-machining stage <br>\n",
    "> R: feed for the rough-machining along Z axis <br>\n",
    "> F: feed for the rough-machining along X and Y axes <br>\n",
    "> B: RPM for the finish-machining stage <br>\n",
    "> J: feed for the general finish-machining <br>\n",
    "> Z: safety coordinate along Z axis <br>\n",
    "> <br>"
   ]
  },
  {
   "cell_type": "markdown",
   "metadata": {},
   "source": [
    "```\n",
    "N300 G172 I3.2 J2.7 K0 P0 Q0.1 R0 X-0.1 Y0 Z-0.25\n",
    "N310 G173 I0 K0 P10 T01 S2000 R3 F6 B2500 J4 Z0.1\n",
    "\n",
    "N320 G172 I0.7 J0.7 K0 P0 Q0.1 R-0.25 X0.225 Y1.7 Z-0.375\n",
    "N330 G173 I0 K0 P10 T01 S2000 R3 F6 B2500 J4 Z0.1\n",
    "\n",
    "N340 G172 I0.7 J0.7 K0 P0 Q0.1 R-0.25 X1.15 Y1.7 Z-0.375\n",
    "N350 G173 I0 K0 P10 T01 S2000 R3 F6 B2500 J4 Z0.1\n",
    "\n",
    "N360 G172 I0.7 J0.7 K0 P0 Q0.1 R-0.25 X2.075 Y1.7 Z-0.375\n",
    "N370 G173 I0 K0 P10 T01 S2000 R3 F6 B2500 J4 Z0.1\n",
    "\n",
    "N380 G172 I1 J1.4 K0 P0 Q0.1 R-0.25 X1 Y0 Z-0.625\n",
    "N390 G173 I0 K0 P10 T01 S2000 R3 F6 B2500 J4 Z0.1\n",
    "\n",
    "N400 G172 I3.2 J0.3875 K0 P0 Q0.1 R-0.25 X-0.1 Y1.0125 Z-0.625\n",
    "N410 G173 I0 K0 P10 T01 S2000 R3 F6 B2500 J4 Z0.1\n",
    "\n",
    "N420 G172 I0.2625 J1.4 K0 P0 Q0.1 R-0.25 X0 Y0 Z-0.625\n",
    "N430 G173 I0 K0 P10 T01 S2000 R3 F6 B2500 J4 Z0.1\n",
    "\n",
    "N440 G172 I3.2 J0.3875 K0 P0 Q0.1 R-0.25 X-0.1 Y0 Z-0.625\n",
    "N450 G173 I0 K0 P10 T01 S2000 R3 F6 B2500 J4 Z0.1\n",
    "\n",
    "\n",
    "(***ADDED 0.1 TO THE I PREFIX ON G172 TO GET A BETTER SIMULATION VISUALIZATION)\n",
    "\n",
    "N460 G172 I0.3625 J1.4 K0 P0 Q0.1 R-0.25 X2.7375 Y0 Z-0.625\n",
    "N470 G173 I0 K0 P10 T01 S2000 R3 F6 B2500 J4 Z0.1\n",
    "```"
   ]
  },
  {
   "cell_type": "markdown",
   "metadata": {},
   "source": [
    "The next program's section is to machining the cylindrical features. Those can be done using G02 or G03..."
   ]
  },
  {
   "cell_type": "markdown",
   "metadata": {},
   "source": [
    "~~~\n",
    "N480 G00 X0.575 Y0.2625\n",
    "N490 G01 Z-0.625\n",
    "\n",
    "N500 G02 X0.575 Y1.1375 R-0.4375\n",
    "N510 G02 X0.575 Y0.2625 R-0.4375\n",
    "\n",
    "N520 G00 Z0.1\n",
    "N530 G00 X2.425 Y0.2625\n",
    "N540 G01 Z-0.625\n",
    "\n",
    "N550 G02 X2.425 Y1.1375 R-0.4375\n",
    "N560 G02 X2.425 Y0.2625 R-0.4375\n",
    "\n",
    "G00 Z0.1\n",
    "~~~"
   ]
  },
  {
   "cell_type": "markdown",
   "metadata": {},
   "source": [
    "There are a few Circular Pocket's routines along this code, whose related G-Codes are G170 and G171. Here are listed all the prefixed used by these G-Codes...\n",
    "<br><br>\n",
    "G170\n",
    "> I: pocket's size along X axis <br>\n",
    "> J: pocket's size along Y axis <br>\n",
    "> K: not applicable, but the prefix is necessary to run the routine <br>\n",
    "> P: not applicable, but the prefix is necessary to run the routine <br>\n",
    "> Q: steps size or increment along Z axis <br>\n",
    "> R: starting absolute coordenate along Z axis <br>\n",
    "> X: absolute coordenate along X axis for the left-down corner of the pocket <br>\n",
    "> Y: absolute coordenate along Y axis for the left-down corner of the pocket <br>\n",
    "> Z: ending absolute coordenate along Z axis <br>\n",
    "> <br>\n",
    "\n",
    "G172\n",
    "> I: not applicable, but the prefix is necessary to run the routine <br>\n",
    "> K: not applicable, but the prefix is necessary to run the routine <br>\n",
    "> P: cut's rate expressed as a tool diameter percentage <br>\n",
    "> T: selected tool <br>\n",
    "> S: RPM for the rough-machining stage <br>\n",
    "> R: feed for the rough-machining along Z axis <br>\n",
    "> F: feed for the rough-machining along X and Y axes <br>\n",
    "> B: RPM for the finish-machining stage <br>\n",
    "> J: feed for the general finish-machining <br>\n",
    "> Z: safety coordinate along Z axis <br>\n",
    "> <br>"
   ]
  },
  {
   "cell_type": "markdown",
   "metadata": {},
   "source": [
    "~~~\n",
    "N570 G170 R0 P0 Q0.5 X0.637 Y3.35 Z-0.5 I0 J0 K0.25\n",
    "N580 G171 P10 S2000 R3 F6 B2500 J4\n",
    "\n",
    "N590 G170 R0 P0 Q0.5 X1.217 Y3.35 Z-0.5 I0 J0 K0.1875\n",
    "N600 G171 P10 S2000 R3 F6 B2500 J4\n",
    "\n",
    "N610 G170 R0 P0 Q0.5 X1.783 Y3.35 Z-0.5 I0 J0 K0.1875\n",
    "N620 G171 P10 S2000 R3 F6 B2500 J4\n",
    "\n",
    "N630 G170 R0 P0 Q0.5 X2.363 Y3.35 Z-0.5 I0 J0 K0.25\n",
    "N640 G171 P10 S2000 R3 F6 B2500 J4\n",
    "~~~"
   ]
  },
  {
   "cell_type": "markdown",
   "metadata": {},
   "source": [
    "<div>\n",
    "<p>\n",
    "Close <br>\n",
    "</p>\n",
    "</div>"
   ]
  },
  {
   "cell_type": "markdown",
   "metadata": {},
   "source": [
    "```\n",
    "N650 M05\n",
    "N660 G28 X0 Z0\n",
    "N670 M30\n",
    "```"
   ]
  },
  {
   "cell_type": "markdown",
   "metadata": {},
   "source": [
    "Note: <br>\n",
    "CNC programs readibility needs to be improved. I will do the possible to enhance it using engineering software's best practices."
   ]
  }
 ],
 "metadata": {
  "kernelspec": {
   "display_name": "Python 3.10.6 ('cncJup')",
   "language": "python",
   "name": "python3"
  },
  "language_info": {
   "name": "python",
   "version": "3.10.6"
  },
  "orig_nbformat": 4,
  "vscode": {
   "interpreter": {
    "hash": "4d4dc0298cc328660e0680bc504fe7e636f6dff8d1c7e6be139f3213cc956be8"
   }
  }
 },
 "nbformat": 4,
 "nbformat_minor": 2
}
