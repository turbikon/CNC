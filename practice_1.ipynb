{
 "cells": [
  {
   "cell_type": "markdown",
   "metadata": {},
   "source": [
    "\n",
    "## Holes\n",
    "\n",
    "***Machinery's Brand*** : *Fanuc* </br>\n",
    "***Used simulator*** : *Denford Fanuc* </br>\n",
    "***Note*** : *I apologize in advance for the possible English mistakes that could be found along my documents.*\n",
    "\n",
    "</br>\n",
    "\n",
    "The current practice will help us to understand how create holes in a billet. It has the objective of exploring each of the possible machining operations (G-codes) and considerations around.\n",
    "\n",
    "</br>\n",
    "\n",
    "***The design drawing will be uploaded later***\n",
    "\n",
    "***Units*** : milimeters (mm)\n",
    "\n",
    "The next lines are only for the used simulator...\n",
    "\n",
    "[BILLET X80.0 Y60.0 Z20.0\n",
    "[TOOLDEF T01 D5.0 \\# Centredrill Bit\n",
    "[TOOLDEF T02 D15.0 \\# Drill Bit\n",
    "\n",
    "The head of the program...\n",
    "\n",
    "N1 G21 G90 G54 G17\n",
    "N2 G80 G40 G94 G28\n",
    "\n",
    "The body of the program...\n",
    "\n",
    "\\# Setting T01 - Centredrill Bit...\n",
    "N100 M06 T01\n",
    "N110 M03 S2000\n",
    "\n",
    "\\# First hole...\n",
    "N120 G00 X20.0 Y40.0\n",
    "N130 G00 Z1.0\n",
    "N140 G01 Z-5.0 F100\n",
    "N150 G01 Z1.0\n",
    "\n",
    "\\# Second hole...\n",
    "N160 G00 X40.0 Y30.0\n",
    "N170 G01 Z-5.0\n",
    "N180 G01 Z1.0\n",
    "\n",
    "\\# Third hole...\n",
    "N190 G00 X60.0 Y20.0\n",
    "N200 G01 Z-5.0\n",
    "N210 G01 Z1.0\n",
    "\n",
    "\\# Moving to Home\n",
    "N220 G00 Z5.0 M05\n",
    "N230 G28 Z0\n",
    "\n",
    "\\# Setting T02 - Drill Bit...\n",
    "N240 M06 T02\n",
    "N250 M03 S2000\n",
    "\n",
    "\\# First hole...\n",
    "N260 G00 X20.0 Y40.0\n",
    "N270 G00 Z1.0\n",
    "N280 G01"
   ]
  }
 ],
 "metadata": {
  "kernelspec": {
   "display_name": "Python 3.10.6 ('cncJup')",
   "language": "python",
   "name": "python3"
  },
  "language_info": {
   "name": "python",
   "version": "3.10.6"
  },
  "orig_nbformat": 4,
  "vscode": {
   "interpreter": {
    "hash": "4d4dc0298cc328660e0680bc504fe7e636f6dff8d1c7e6be139f3213cc956be8"
   }
  }
 },
 "nbformat": 4,
 "nbformat_minor": 2
}
